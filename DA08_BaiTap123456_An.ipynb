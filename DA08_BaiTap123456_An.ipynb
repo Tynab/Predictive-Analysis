{
 "cells": [
  {
   "cell_type": "markdown",
   "metadata": {},
   "source": [
    "# BÀI TẬP PHÂN TÍCH DỰ ĐOÁN"
   ]
  },
  {
   "cell_type": "markdown",
   "metadata": {},
   "source": [
    "## Đề Bài"
   ]
  },
  {
   "cell_type": "markdown",
   "metadata": {},
   "source": [
    "### Cơ Bản"
   ]
  },
  {
   "cell_type": "markdown",
   "metadata": {},
   "source": [
    "Thực hiện phân tích mô tả cho dữ liệu chuyến bay 'nycflights.csv':\n",
    "1. Cho cột dep_delay (khởi hành trễ).\n",
    "2. Cho cột arr_delay (đến nơi trễ).\n",
    "3. Cho cột distance (khoảng cách chuyến bay).\n",
    "4. Sử dụng linear regression xây dựng mô hình dự đoán thời gian đến nơi trễ (arr_delay) dựa vào thời gian xuất phát trễ (dep_delay) và khoảng cách (distance)."
   ]
  },
  {
   "cell_type": "markdown",
   "metadata": {},
   "source": [
    "### Nâng Cao"
   ]
  },
  {
   "cell_type": "markdown",
   "metadata": {},
   "source": [
    "Tiếp tục với dữ liệu 'nycflights.csv':\n",
    "1. Thực hiện phân tích mô tả cho 3 cột ở trên nhưng chia theo nơi xuất phát: cột origin (gồm 3 sân bay: JFK, LGA, EWR).\n",
    "2. Chia ra làm 3 mô hình cho 3 sân bay xuất phát (JFK, LGA, EWR) và nhận xét về độ chính xác so với mô hình chung."
   ]
  },
  {
   "cell_type": "markdown",
   "metadata": {},
   "source": [
    "## Script"
   ]
  },
  {
   "cell_type": "markdown",
   "metadata": {},
   "source": [
    "### Using"
   ]
  },
  {
   "cell_type": "code",
   "execution_count": 1,
   "metadata": {},
   "outputs": [],
   "source": [
    "import pandas as pd\n",
    "from sklearn.linear_model import LinearRegression"
   ]
  },
  {
   "cell_type": "markdown",
   "metadata": {},
   "source": [
    "### Contract Fields"
   ]
  },
  {
   "cell_type": "code",
   "execution_count": 2,
   "metadata": {},
   "outputs": [],
   "source": [
    "CN_MINUTE = 'minute'\n",
    "CN_HOUR = 'hour'\n",
    "CN_DAY = 'day'\n",
    "CN_MONTH = 'month'\n",
    "CN_YEAR = 'year'\n",
    "CN_DEP_TIME = 'dep_time'\n",
    "CN_DEP_DELAY = 'dep_delay'\n",
    "CN_ARR_TIME = 'arr_time'\n",
    "CN_ARR_DELAY = 'arr_delay'\n",
    "CN_CARRIER = 'carrier'\n",
    "CN_TAILNUM = 'tailnum'\n",
    "CN_FLIGHT = 'flight'\n",
    "CN_ORIGIN = 'origin'\n",
    "CN_DEST = 'dest'\n",
    "CN_AIR_TIME = 'air_time'\n",
    "CN_DISTANCE = 'distance'"
   ]
  },
  {
   "cell_type": "markdown",
   "metadata": {},
   "source": [
    "### Contract Methods"
   ]
  },
  {
   "cell_type": "code",
   "execution_count": 3,
   "metadata": {},
   "outputs": [],
   "source": [
    "# Refactor\n",
    "def refactor(s):\n",
    "    return s.str.strip().str.upper()"
   ]
  },
  {
   "cell_type": "code",
   "execution_count": 4,
   "metadata": {},
   "outputs": [],
   "source": [
    "# Try parse to int\n",
    "def try_prs_int(s):\n",
    "    return pd.to_numeric(s, errors='coerce').astype('Int64')"
   ]
  },
  {
   "cell_type": "code",
   "execution_count": 5,
   "metadata": {},
   "outputs": [],
   "source": [
    "# Valid string series\n",
    "def vld_str_ser(s):\n",
    "    return s.notna() & ~s.eq('')"
   ]
  },
  {
   "cell_type": "code",
   "execution_count": 6,
   "metadata": {},
   "outputs": [],
   "source": [
    "# Describe advanced\n",
    "def des_adv(s):\n",
    "    return s.loc[s.notna() & vld_str_ser(s)].describe()"
   ]
  },
  {
   "cell_type": "markdown",
   "metadata": {},
   "source": [
    "### Processing"
   ]
  },
  {
   "cell_type": "code",
   "execution_count": 7,
   "metadata": {},
   "outputs": [],
   "source": [
    "df = pd.read_csv('nycflights.csv')"
   ]
  },
  {
   "cell_type": "code",
   "execution_count": 8,
   "metadata": {},
   "outputs": [],
   "source": [
    "minute = try_prs_int(df[CN_MINUTE])\n",
    "hour = try_prs_int(df[CN_HOUR])\n",
    "day = try_prs_int(df[CN_DAY])\n",
    "month = try_prs_int(df[CN_MONTH])\n",
    "year = try_prs_int(df[CN_YEAR])\n",
    "dep_time = try_prs_int(df[CN_DEP_TIME])\n",
    "dep_delay = try_prs_int(df[CN_DEP_DELAY])\n",
    "arr_time = try_prs_int(df[CN_ARR_TIME])\n",
    "arr_delay = try_prs_int(df[CN_ARR_DELAY])\n",
    "carrier = refactor(df[CN_CARRIER])\n",
    "tailnum = refactor(df[CN_TAILNUM])\n",
    "flight = try_prs_int(df[CN_FLIGHT])\n",
    "origin = refactor(df[CN_ORIGIN])\n",
    "dest = refactor(df[CN_DEST])\n",
    "air_time = try_prs_int(df[CN_AIR_TIME])\n",
    "distance = try_prs_int(df[CN_DISTANCE])"
   ]
  },
  {
   "cell_type": "code",
   "execution_count": 9,
   "metadata": {},
   "outputs": [
    {
     "name": "stdout",
     "output_type": "stream",
     "text": [
      "count    328521.000000\n",
      "mean         12.639070\n",
      "std          40.210061\n",
      "min         -43.000000\n",
      "25%          -5.000000\n",
      "50%          -2.000000\n",
      "75%          11.000000\n",
      "max        1301.000000\n",
      "Name: dep_delay, dtype: float64\n"
     ]
    }
   ],
   "source": [
    "# Request 1 basic\n",
    "print(des_adv(dep_delay))"
   ]
  },
  {
   "cell_type": "code",
   "execution_count": 10,
   "metadata": {},
   "outputs": [
    {
     "name": "stdout",
     "output_type": "stream",
     "text": [
      "count    327346.000000\n",
      "mean          6.895377\n",
      "std          44.633292\n",
      "min         -86.000000\n",
      "25%         -17.000000\n",
      "50%          -5.000000\n",
      "75%          14.000000\n",
      "max        1272.000000\n",
      "Name: arr_delay, dtype: float64\n"
     ]
    }
   ],
   "source": [
    "# Request 2 basic\n",
    "print(des_adv(arr_delay))"
   ]
  },
  {
   "cell_type": "code",
   "execution_count": 11,
   "metadata": {},
   "outputs": [
    {
     "name": "stdout",
     "output_type": "stream",
     "text": [
      "count    336776.000000\n",
      "mean       1039.912604\n",
      "std         733.233033\n",
      "min          17.000000\n",
      "25%         502.000000\n",
      "50%         872.000000\n",
      "75%        1389.000000\n",
      "max        4983.000000\n",
      "Name: distance, dtype: float64\n"
     ]
    }
   ],
   "source": [
    "# Request 3 basic\n",
    "print(des_adv(distance))"
   ]
  },
  {
   "cell_type": "code",
   "execution_count": 12,
   "metadata": {},
   "outputs": [
    {
     "name": "stdout",
     "output_type": "stream",
     "text": [
      "Coefficients: [ 1.01807721 -0.00255059]\n",
      "Intercept: -3.2127794408253623\n"
     ]
    }
   ],
   "source": [
    "# Request 4 basic\n",
    "df4 = df.loc[dep_delay.notna() & arr_delay.notna() & distance.notna() & vld_str_ser(dep_delay) & vld_str_ser(arr_delay)& vld_str_ser(distance)]\n",
    "X = df4[[CN_DEP_DELAY, CN_DISTANCE]]\n",
    "y = df4[CN_ARR_DELAY]\n",
    "model = LinearRegression().fit(X, y)\n",
    "print('Coefficients:', model.coef_)\n",
    "print('Intercept:', model.intercept_)"
   ]
  },
  {
   "cell_type": "code",
   "execution_count": 13,
   "metadata": {},
   "outputs": [
    {
     "name": "stdout",
     "output_type": "stream",
     "text": [
      "JFK\n",
      "           dep_delay      arr_delay       distance\n",
      "count  109079.000000  109079.000000  109079.000000\n",
      "mean       12.023607       5.551481    1275.210590\n",
      "std        38.827098      44.277448     896.377852\n",
      "min       -43.000000     -79.000000      94.000000\n",
      "25%        -5.000000     -18.000000     427.000000\n",
      "50%        -1.000000      -6.000000    1069.000000\n",
      "75%        10.000000      13.000000    2248.000000\n",
      "max      1301.000000    1272.000000    4983.000000\n"
     ]
    }
   ],
   "source": [
    "# Request 1.1 advanced\n",
    "print('JFK')\n",
    "print(df4[df4[CN_ORIGIN] == 'JFK'][[CN_DEP_DELAY, CN_ARR_DELAY, CN_DISTANCE]].describe())"
   ]
  },
  {
   "cell_type": "code",
   "execution_count": 14,
   "metadata": {},
   "outputs": [
    {
     "name": "stdout",
     "output_type": "stream",
     "text": [
      "LGA\n",
      "           dep_delay      arr_delay       distance\n",
      "count  101140.000000  101140.000000  101140.000000\n",
      "mean       10.286583       5.783488     784.756110\n",
      "std        39.911298      43.862273     371.034203\n",
      "min       -33.000000     -68.000000      96.000000\n",
      "25%        -6.000000     -17.000000     502.000000\n",
      "50%        -3.000000      -5.000000     762.000000\n",
      "75%         7.000000      12.000000    1035.000000\n",
      "max       911.000000     915.000000    1620.000000\n"
     ]
    }
   ],
   "source": [
    "# Request 1.2\n",
    "print('LGA')\n",
    "print(df4[df4[CN_ORIGIN] == 'LGA'][[CN_DEP_DELAY, CN_ARR_DELAY, CN_DISTANCE]].describe())"
   ]
  },
  {
   "cell_type": "code",
   "execution_count": 15,
   "metadata": {},
   "outputs": [
    {
     "name": "stdout",
     "output_type": "stream",
     "text": [
      "EWR\n",
      "           dep_delay      arr_delay       distance\n",
      "count  117127.000000  117127.000000  117127.000000\n",
      "mean       15.009110       9.107055    1064.752166\n",
      "std        41.185208      45.529183     733.624574\n",
      "min       -25.000000     -86.000000      80.000000\n",
      "25%        -4.000000     -16.000000     533.000000\n",
      "50%        -1.000000      -4.000000     872.000000\n",
      "75%        15.000000      16.000000    1400.000000\n",
      "max      1126.000000    1109.000000    4963.000000\n"
     ]
    }
   ],
   "source": [
    "# Request 1.3\n",
    "print('EWR')\n",
    "print(df4[df4[CN_ORIGIN] == 'EWR'][[CN_DEP_DELAY, CN_ARR_DELAY, CN_DISTANCE]].describe())"
   ]
  },
  {
   "cell_type": "code",
   "execution_count": 16,
   "metadata": {},
   "outputs": [],
   "source": [
    "# Request 2 advanced\n",
    "df_JFK = df4[df4[CN_ORIGIN] == 'JFK']\n",
    "df_LGA = df4[df4[CN_ORIGIN] == 'LGA']\n",
    "df_EWR = df4[df4[CN_ORIGIN] == 'EWR']"
   ]
  },
  {
   "cell_type": "code",
   "execution_count": 17,
   "metadata": {},
   "outputs": [
    {
     "name": "stdout",
     "output_type": "stream",
     "text": [
      "JFK Coefficients: [ 1.02687973 -0.00182887]\n",
      "JFK Intercept: -4.463121059324201\n"
     ]
    }
   ],
   "source": [
    "# Request 2.1 advanced\n",
    "X_JFK = df_JFK[[CN_DEP_DELAY, CN_DISTANCE]]\n",
    "y_JFK = df_JFK[CN_ARR_DELAY]\n",
    "model_JFK = LinearRegression().fit(X_JFK, y_JFK)\n",
    "print('JFK Coefficients:', model_JFK.coef_)\n",
    "print('JFK Intercept:', model_JFK.intercept_)"
   ]
  },
  {
   "cell_type": "code",
   "execution_count": 18,
   "metadata": {},
   "outputs": [
    {
     "name": "stdout",
     "output_type": "stream",
     "text": [
      "LGA Coefficients: [ 1.00382354 -0.00305928]\n",
      "LGA Intercept: -2.1416406592863213\n"
     ]
    }
   ],
   "source": [
    "# Request 2.2 advanced\n",
    "X_LGA = df_LGA[[CN_DEP_DELAY, CN_DISTANCE]]\n",
    "y_LGA = df_LGA[CN_ARR_DELAY]\n",
    "model_LGA = LinearRegression().fit(X_LGA, y_LGA)\n",
    "print('LGA Coefficients:', model_LGA.coef_)\n",
    "print('LGA Intercept:', model_LGA.intercept_)"
   ]
  },
  {
   "cell_type": "code",
   "execution_count": 19,
   "metadata": {},
   "outputs": [
    {
     "name": "stdout",
     "output_type": "stream",
     "text": [
      "EWR Coefficients: [ 1.02348384 -0.00308813]\n",
      "EWR Intercept: -2.9664297290861334\n"
     ]
    }
   ],
   "source": [
    "# Request 2.3 advanced\n",
    "X_EWR = df_EWR[[CN_DEP_DELAY, CN_DISTANCE]]\n",
    "y_EWR = df_EWR[CN_ARR_DELAY]\n",
    "model_EWR = LinearRegression().fit(X_EWR, y_EWR)\n",
    "print('EWR Coefficients:', model_EWR.coef_)\n",
    "print('EWR Intercept:', model_EWR.intercept_)"
   ]
  },
  {
   "cell_type": "markdown",
   "metadata": {},
   "source": [
    "So sánh với mô hình chung, các mô hình tách biệt cho từng sân bay xuất phát có hệ số tương ứng với dep_delay khá gần nhau (từ 1.003 đến 1.027), nhưng các hệ số tương ứng với distance và intercept khác nhau đáng kể giữa các sân bay. Điều này cho thấy tốc độ và độ trễ của các chuyến bay từ các sân bay khác nhau có sự khác biệt và có ảnh hưởng đến kết quả dự đoán. Nếu chỉ quan tâm đến độ trễ và khoảng cách, mô hình chung sẽ cho kết quả dự đoán chính xác nhưng không hiệu quả bằng các mô hình tách biệt cho từng sân bay. Vì vậy, nếu quan tâm đến độ chính xác và tính ứng dụng thực tế, nên sử dụng các mô hình tách biệt cho từng sân bay xuất phát."
   ]
  }
 ],
 "metadata": {
  "kernelspec": {
   "display_name": "Python 3 (ipykernel)",
   "language": "python",
   "name": "python3"
  },
  "language_info": {
   "codemirror_mode": {
    "name": "ipython",
    "version": 3
   },
   "file_extension": ".py",
   "mimetype": "text/x-python",
   "name": "python",
   "nbconvert_exporter": "python",
   "pygments_lexer": "ipython3",
   "version": "3.9.13"
  }
 },
 "nbformat": 4,
 "nbformat_minor": 2
}
